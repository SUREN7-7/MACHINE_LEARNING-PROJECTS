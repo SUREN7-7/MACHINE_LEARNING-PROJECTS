{
 "cells": [
  {
   "cell_type": "raw",
   "id": "4ce220ed-6e5a-4822-b4c5-29e8e90ddece",
   "metadata": {
    "jp-MarkdownHeadingCollapsed": true
   },
   "source": [
    "Student Performance Indicator\n",
    ". Life cycle of Machine learning Project\n",
    ". Understanding the Problem Statement\n",
    ". Data Collection\n",
    ". Data Checks to perform\n",
    ". Exploratory data analysis\n",
    ". Data Pre-Processing\n",
    ". Model Training\n",
    ". Choose best model "
   ]
  },
  {
   "cell_type": "raw",
   "id": "07fa949a-2813-4754-813d-c250d9847474",
   "metadata": {},
   "source": [
    "1) Problem statement:\n",
    ". This project understands how the student's performance (test scores) is affected by other variables such as Gender, Ethnicity, Parental level of education, Lunch and Test preparation course."
   ]
  },
  {
   "cell_type": "markdown",
   "id": "2528f60f-a126-4722-a775-c4c3a02c5089",
   "metadata": {},
   "source": [
    "### Data Collection"
   ]
  },
  {
   "cell_type": "raw",
   "id": "7255252b-a541-412f-94b3-4e24fe856711",
   "metadata": {},
   "source": [
    ". Dataset Source - https://www.kaggle.com/datasets/spscientist/students-performance-in-exams?datasetId=74977\n",
    "The data consists of 8 column and 1000 rows."
   ]
  },
  {
   "cell_type": "code",
   "execution_count": 1,
   "id": "542f7430-df6b-42b9-8e21-bcdf00ca6a08",
   "metadata": {},
   "outputs": [],
   "source": [
    "import pandas as pd\n",
    "import seaborn as sns\n",
    "import numpy as np\n",
    "import matplotlib.pyplot as plt\n",
    "%matplotlib inline\n",
    "import warnings\n",
    "warnings.filterwarnings('ignore')"
   ]
  },
  {
   "cell_type": "code",
   "execution_count": null,
   "id": "56ca3ba9-e89f-46bb-950d-c47d8877582e",
   "metadata": {},
   "outputs": [],
   "source": [
    "df = pd.read_csv('C:\\SUREN_NEW\\MACHINE_LEARNING-PROJECTS\\DATA\\StudentsPerformance.csv')"
   ]
  },
  {
   "cell_type": "code",
   "execution_count": null,
   "id": "3d6770c4-b31c-4e4c-9bfb-8116dd76d4f9",
   "metadata": {},
   "outputs": [],
   "source": [
    "df.head()"
   ]
  },
  {
   "cell_type": "code",
   "execution_count": null,
   "id": "cc927891-431b-46f2-986f-76bfc7698359",
   "metadata": {},
   "outputs": [],
   "source": [
    "df.shape"
   ]
  },
  {
   "cell_type": "markdown",
   "id": "03b96cf0-bcb9-4a6d-aaae-1d2ea96471ec",
   "metadata": {},
   "source": [
    "### Dataset Cleaning"
   ]
  },
  {
   "cell_type": "raw",
   "id": "199ad989-b91c-42ba-87cc-06bd039a93e2",
   "metadata": {},
   "source": [
    ". gender : sex of students -> (Male/female)\n",
    ". race/ethnicity : ethnicity of students -> (Group A, B,C, D,E)\n",
    ". parental level of education : parents' final education ->(bachelor's degree,some college,master's   degree,associate's degree,high school)\n",
    ". lunch : having lunch before test (standard or free/reduced)\n",
    ". test preparation course : complete or not complete before test\n",
    ". math score\n",
    ". reading score\n",
    ". writing score"
   ]
  },
  {
   "cell_type": "raw",
   "id": "d0261797-92b1-4179-845c-a106d84c169b",
   "metadata": {},
   "source": [
    "3. Data Checks to perform\n",
    ". Check Missing values\n",
    ". Check Duplicates\n",
    ". Check data type\n",
    ". Check the number of unique values of each column\n",
    ". Check statistics of data set\n",
    ". Check various categories present in the different categorical column"
   ]
  },
  {
   "cell_type": "code",
   "execution_count": null,
   "id": "a6254913-cc2e-4368-8eb3-53005556cb3f",
   "metadata": {},
   "outputs": [],
   "source": [
    "df.isna().sum()"
   ]
  },
  {
   "cell_type": "raw",
   "id": "e348480d-608e-4415-95c2-db7b54ebdda6",
   "metadata": {},
   "source": [
    "Insight: There are no missing values in the data set"
   ]
  },
  {
   "cell_type": "code",
   "execution_count": null,
   "id": "d0b3539a-4337-4581-831f-987fd9774343",
   "metadata": {},
   "outputs": [],
   "source": [
    "df.duplicated().sum()"
   ]
  },
  {
   "cell_type": "raw",
   "id": "3f2ccc27-f2a4-4e6c-94dd-9a0d355170f5",
   "metadata": {},
   "source": [
    "Insight: There are no duplicated values in the data set"
   ]
  },
  {
   "cell_type": "code",
   "execution_count": null,
   "id": "1a01c409-a158-43b9-abee-c9df31e15521",
   "metadata": {},
   "outputs": [],
   "source": [
    "# Check Null and Dtypes\n",
    "df.info()"
   ]
  },
  {
   "cell_type": "raw",
   "id": "f8114dbd-5e3a-412d-84bc-390e2967c814",
   "metadata": {},
   "source": [
    "Checking the number of unique values of each column"
   ]
  },
  {
   "cell_type": "code",
   "execution_count": null,
   "id": "ca0ef801-0b8f-49ea-97da-adc168275d76",
   "metadata": {},
   "outputs": [],
   "source": [
    "df.nunique()"
   ]
  },
  {
   "cell_type": "raw",
   "id": "4922b232-c27c-41c5-bb30-1ac1a32ef104",
   "metadata": {},
   "source": [
    "3.5 Check statistics of data set"
   ]
  },
  {
   "cell_type": "code",
   "execution_count": null,
   "id": "b4d26fb0-84d8-481c-9484-56db4c6ed87e",
   "metadata": {},
   "outputs": [],
   "source": [
    "df.describe()"
   ]
  },
  {
   "cell_type": "raw",
   "id": "32328eff-3001-45c9-ae6e-5bdddc97543d",
   "metadata": {},
   "source": [
    "Insight\n",
    "From above description of numerical data, all means are very close to each other - between 66 and 68.05;\n",
    "All standard deviations are also close - between 14.6 and 15.19;\n",
    "While there is a minimum score 0 for math, for writing minimum is much higher = 10 and for reading myet higher = 17"
   ]
  },
  {
   "cell_type": "markdown",
   "id": "7f742cb0-7882-4d5f-b3ea-c95f51484541",
   "metadata": {},
   "source": [
    "### Exploring Data"
   ]
  },
  {
   "cell_type": "code",
   "execution_count": null,
   "id": "aa881e6b-f1dd-47c7-8a33-2b39f504c1f1",
   "metadata": {},
   "outputs": [],
   "source": [
    "df.head()"
   ]
  },
  {
   "cell_type": "code",
   "execution_count": null,
   "id": "ce52f3b9-9782-44e4-be85-d30cc6f083ec",
   "metadata": {},
   "outputs": [],
   "source": [
    "print(\"Categories in 'gender' variable:     \",end=\" \" )\n",
    "print(df['gender'].unique())\n",
    "\n",
    "print(\"Categories in 'race_ethnicity' variable:  \",end=\" \")\n",
    "print(df['race/ethnicity'].unique())\n",
    "\n",
    "print(\"Categories in'parental level of education' variable:\",end=\" \" )\n",
    "print(df['parental level of education'].unique())\n",
    "\n",
    "print(\"Categories in 'lunch' variable:     \",end=\" \" )\n",
    "print(df['lunch'].unique())\n",
    "\n",
    "print(\"Categories in 'test preparation course' variable:     \",end=\" \" )\n",
    "print(df['test preparation course'].unique())"
   ]
  },
  {
   "cell_type": "raw",
   "id": "d514eaf6-65f6-4e91-8241-38d6a10ccda7",
   "metadata": {},
   "source": [
    "Identifying categorical and numerical columns"
   ]
  },
  {
   "cell_type": "code",
   "execution_count": null,
   "id": "6231fb73-3ecb-46eb-86b6-7d43892a818f",
   "metadata": {},
   "outputs": [],
   "source": [
    "df['gender'].dtype\n",
    "# define numerical & categorical columns\n",
    "numeric_features = [feature for feature in df.columns if df[feature].dtype != 'O']\n",
    "categorical_features = [feature for feature in df.columns if df[feature].dtype == 'O']\n",
    "\n",
    "# print columns\n",
    "print('We have {} numerical features : {}'.format(len(numeric_features), numeric_features))\n",
    "print('\\nWe have {} categorical features : {}'.format(len(categorical_features), categorical_features))"
   ]
  },
  {
   "cell_type": "markdown",
   "id": "67e0dd0b-64f9-42ab-8cb1-b78e6ff59199",
   "metadata": {
    "jp-MarkdownHeadingCollapsed": true
   },
   "source": [
    "### FEATURE ENGINEERING"
   ]
  },
  {
   "cell_type": "code",
   "execution_count": null,
   "id": "fbd293e2-4263-44e2-ae11-325710eaba5a",
   "metadata": {},
   "outputs": [],
   "source": [
    "df['total score'] = df['math score'] + df['reading score'] + df['writing score']\n",
    "df['average'] = df['total score']/3\n",
    "df.head()"
   ]
  },
  {
   "cell_type": "code",
   "execution_count": null,
   "id": "3e7dbb6a-9d51-451d-8415-acc1cf323e4e",
   "metadata": {},
   "outputs": [],
   "source": [
    "print(df['math score']==100)\n",
    "print(df[df['math score']==100]['average'])\n",
    "print(df[df['math score']==100]['average'].count())"
   ]
  },
  {
   "cell_type": "code",
   "execution_count": null,
   "id": "560f4ff2-e69c-42af-8091-37aaf155866a",
   "metadata": {},
   "outputs": [],
   "source": [
    "reading_full = df[df['reading score'] == 100]['average'].count()\n",
    "writing_full = df[df['writing score'] == 100]['average'].count()\n",
    "math_full = df[df['math score'] == 100]['average'].count()\n",
    "\n",
    "print(f'Number of students with full marks in Maths: {math_full}')\n",
    "print(f'Number of students with full marks in Writing: {writing_full}')\n",
    "print(f'Number of students with full marks in Reading: {reading_full}')"
   ]
  },
  {
   "cell_type": "code",
   "execution_count": null,
   "id": "91b1202f-e6d0-4596-9543-b967dd428f8e",
   "metadata": {},
   "outputs": [],
   "source": [
    "reading_less_20 = df[df['reading score'] <= 20]['average'].count()\n",
    "writing_less_20 = df[df['writing score'] <= 20]['average'].count()\n",
    "math_less_20 = df[df['math score'] <= 20]['average'].count()\n",
    "\n",
    "print(f'Number of students with less than 20 marks in Maths: {math_less_20}')\n",
    "print(f'Number of students with less than 20 marks in Writing: {writing_less_20}')\n",
    "print(f'Number of students with less than 20 marks in Reading: {reading_less_20}')"
   ]
  },
  {
   "cell_type": "raw",
   "id": "0308e504-cf82-4c07-ae6f-96f2289166f7",
   "metadata": {},
   "source": [
    "Insights\n",
    "From above values we get students have performed the worst in Maths\n",
    "Best performance is in reading section"
   ]
  },
  {
   "cell_type": "markdown",
   "id": "7b6f7bf3-b90a-4646-a2d4-37798e4da19a",
   "metadata": {},
   "source": [
    "### DATA VISUALIZATION(EDA)"
   ]
  },
  {
   "cell_type": "raw",
   "id": "0fbf8643-096f-4168-9b80-e1a99a441afe",
   "metadata": {},
   "source": [
    "Univariate Analysis(Single Variable)\n",
    "-> histplot()\n",
    "-> kdeplot()\n",
    "-> boxplot()\n",
    "-> violinplot()\n",
    "Bivariate Analysis(Two Variables)\n",
    "-> scatterplot()\n",
    "-> lineplot()\n",
    "-> regplot()\n",
    "-> jointplot()\n",
    "Catergorical Data Analysis\n",
    "-> countplot()\n",
    "-> barplot()\n",
    "-> boxplot()\n",
    "-> violinplot()\n",
    "-> swarmplot()\n",
    "MultiVariate Analysis\n",
    "-> pairplot()\n",
    "-> heatmap()\n",
    "-> catplot()\n",
    "-> lmplot()"
   ]
  },
  {
   "cell_type": "code",
   "execution_count": null,
   "id": "19e74ee4-2fc8-4676-a0c7-02a8ff1e8626",
   "metadata": {},
   "outputs": [],
   "source": [
    "sns.histplot(data=df,x='average',hue='gender',kde=True)\n",
    "# df where x is average gives us 2 separate datas of m and f containing avg (kde is the line helps to conclude)"
   ]
  },
  {
   "cell_type": "code",
   "execution_count": null,
   "id": "00ccec13-392b-4ca5-8f44-d7fb95192edb",
   "metadata": {},
   "outputs": [],
   "source": [
    "sns.histplot(data=df,x='total score',hue='gender',kde=True)\n",
    "# df where x is total score gives us 2 separate datas of m and f containing total"
   ]
  },
  {
   "cell_type": "raw",
   "id": "244cd164-de2f-48bb-a0a2-fbe255f81a4c",
   "metadata": {},
   "source": [
    "Insights\n",
    "Female students tend to perform well then male students."
   ]
  },
  {
   "cell_type": "code",
   "execution_count": null,
   "id": "2aa6ad33-2072-42d3-82eb-749c2daf3a25",
   "metadata": {},
   "outputs": [],
   "source": [
    "sns.histplot(data=df,x='average',hue='lunch',kde=True)\n",
    "# sns.histplot(data=df[df.gender=='male'],x='average',hue='lunch',kde=True)\n",
    "# sns.histplot(data=df[df.gender=='female'],x='average',hue='lunch',kde=True)"
   ]
  },
  {
   "cell_type": "raw",
   "id": "37946e8c-999c-4015-ac69-993bf4eb648b",
   "metadata": {},
   "source": [
    "Insights\n",
    "Standard lunch helps perform well in exams.\n",
    "Standard lunch helps perform well in exams be it a male or a female."
   ]
  },
  {
   "cell_type": "code",
   "execution_count": null,
   "id": "8b4a968c-95da-4963-a8a9-795d64ccd68d",
   "metadata": {},
   "outputs": [],
   "source": [
    "sns.histplot(data=df,x='average',kde=True,hue='parental level of education')\n",
    "# sns.histplot(data=df[df.gender=='male'],x='average',kde=True,hue='parental level of education')\n",
    "# sns.histplot(data=df[df.gender=='female'],x='average',kde=True,hue='parental level of education')"
   ]
  },
  {
   "cell_type": "code",
   "execution_count": null,
   "id": "e78f5135-eaa4-4231-b906-a7441ecdf74d",
   "metadata": {},
   "outputs": [],
   "source": [
    "Insight\n",
    "we can see that parental level of education effects the student performance"
   ]
  },
  {
   "cell_type": "code",
   "execution_count": null,
   "id": "84545e02-abd7-46d1-95e6-db20ca667abd",
   "metadata": {},
   "outputs": [],
   "source": [
    "sns.histplot(data=df,x='average',kde=True,hue='race/ethnicity')\n",
    "# sns.histplot(data=df[df.gender=='male'],x='average',kde=True,hue='race/ethnicity')\n",
    "# sns.histplot(data=df[df.gender=='female'],x='average',kde=True,hue='race/ethnicity')"
   ]
  },
  {
   "cell_type": "raw",
   "id": "68b8c922-24b6-47d7-80eb-23f27503a857",
   "metadata": {},
   "source": [
    "Insights\n",
    "Students of group A and group B tends to perform poorly in exam.\n",
    "Students of group A and group B tends to perform poorly in exam irrespective of whether they are male or female"
   ]
  },
  {
   "cell_type": "code",
   "execution_count": null,
   "id": "04c59f94-d5db-40c0-ab53-67c350e43093",
   "metadata": {},
   "outputs": [],
   "source": [
    "sns.violinplot(y='math score',data=df)\n",
    "# sns.violinplot(y='writing score',data=df)\n",
    "# sns.violinplot(y='reading score',data=df)"
   ]
  },
  {
   "cell_type": "raw",
   "id": "13b5bb65-cfe4-43ac-bf12-4a67e4abfa13",
   "metadata": {},
   "source": [
    "Insights\n",
    "From the above three plots its clearly visible that most of the students score in between 60-80 in Maths\n",
    "whereas in reading and writing most of them score from 50-80"
   ]
  },
  {
   "cell_type": "code",
   "execution_count": null,
   "id": "a2fa03a9-03ca-4023-9bdc-823c360a317e",
   "metadata": {},
   "outputs": [],
   "source": [
    "plt.rcParams['figure.figsize'] = (30, 12)\n",
    "\n",
    "plt.subplot(1, 5, 1)\n",
    "size = df['gender'].value_counts()\n",
    "labels = 'Female', 'Male'\n",
    "color = ['red','green']\n",
    "\n",
    "\n",
    "plt.pie(size, colors = color, labels = labels,autopct = '.%2f%%')\n",
    "plt.title('Gender', fontsize = 20)\n",
    "plt.axis('off')\n",
    "\n",
    "\n",
    "\n",
    "plt.subplot(1, 5, 2)\n",
    "size = df['race/ethnicity'].value_counts()\n",
    "labels = 'Group C', 'Group D','Group B','Group E','Group A'\n",
    "color = ['red', 'green', 'blue', 'cyan','orange']\n",
    "\n",
    "plt.pie(size, colors = color,labels = labels,autopct = '.%2f%%')\n",
    "plt.title('Race/Ethnicity', fontsize = 20)\n",
    "plt.axis('off')\n",
    "\n",
    "\n",
    "\n",
    "plt.subplot(1, 5, 3)\n",
    "size = df['lunch'].value_counts()\n",
    "labels = 'Standard', 'Free'\n",
    "color = ['red','green']\n",
    "\n",
    "plt.pie(size, colors = color,labels = labels,autopct = '.%2f%%')\n",
    "plt.title('Lunch', fontsize = 20)\n",
    "plt.axis('off')\n",
    "\n",
    "\n",
    "plt.subplot(1, 5, 4)\n",
    "size = df['test preparation course'].value_counts()\n",
    "labels = 'None', 'Completed'\n",
    "color = ['red','green']\n",
    "\n",
    "plt.pie(size, colors = color,labels = labels,autopct = '.%2f%%')\n",
    "plt.title('Test Course', fontsize = 20)\n",
    "plt.axis('off')\n",
    "\n",
    "\n",
    "plt.subplot(1, 5, 5)\n",
    "size = df['parental level of education'].value_counts()\n",
    "labels = 'Some College', \"Associate's Degree\",'High School','Some High School',\"Bachelor's Degree\",\"Master's Degree\"\n",
    "color = ['red', 'green', 'blue', 'cyan','orange','grey']\n",
    "\n",
    "plt.pie(size, colors = color,labels = labels,autopct = '.%2f%%')\n",
    "plt.title('Parental Education', fontsize = 20)\n",
    "plt.axis('off')\n",
    "\n",
    "\n",
    "plt.tight_layout()\n",
    "plt.grid()\n",
    "\n",
    "plt.show()\n"
   ]
  },
  {
   "cell_type": "code",
   "execution_count": null,
   "id": "29516c72-96ad-478b-bb7b-96d5f36cc9a3",
   "metadata": {},
   "outputs": [],
   "source": [
    "sns.barplot(data=df,x='gender',y='average',hue='gender',width=0.3)\n",
    "plt.tick_params(axis='x', labelsize=50)  \n",
    "plt.tick_params(axis='y', labelsize=50)\n",
    "# # sns.barplot(data=df,x='gender',y='total score',hue='gender')\n",
    "# sns.barplot(data=df,x='gender',y='math score',hue='gender')\n",
    "# sns.barplot(data=df,x='gender',y='writing score',hue='gender')\n",
    "# sns.barplot(data=df,x='gender',y='reading score',hue='gender')\n",
    "# widht for adjust size of bars"
   ]
  },
  {
   "cell_type": "raw",
   "id": "2612089e-9a7a-4522-a01b-2802242381c7",
   "metadata": {},
   "source": [
    "Insights\n",
    "On an average females have a better overall score than men.\n",
    "whereas males have scored higher in Maths."
   ]
  },
  {
   "cell_type": "code",
   "execution_count": null,
   "id": "69b8b94d-ef5e-4380-8933-65abc32d57b2",
   "metadata": {},
   "outputs": [],
   "source": [
    "sns.barplot (x=df['gender'], y=df['math score'], hue=df['test preparation course'])\n",
    "plt.tick_params(axis='x', labelsize=50)  \n",
    "plt.tick_params(axis='y', labelsize=50)\n",
    "# sns.barplot (x=df['gender'], y=df['reading score'], hue=df['test preparation course'])\n",
    "# sns.barplot (x=df['gender'], y=df['writing score'], hue=df['test preparation course'])"
   ]
  },
  {
   "cell_type": "raw",
   "id": "15fe5329-39b5-4de3-b971-21469890c7ed",
   "metadata": {},
   "source": [
    "Insights\n",
    "Students who have completed the Test Prepration Course have scores higher in all three categories than \n",
    "those who haven't taken the course"
   ]
  },
  {
   "cell_type": "code",
   "execution_count": null,
   "id": "7c56b4eb-0929-4de3-9048-6d4194f81fa6",
   "metadata": {},
   "outputs": [],
   "source": [
    "sns.boxplot(data=df,x='math score')\n",
    "plt.tick_params(axis='x', labelsize=50)  \n",
    "plt.tick_params(axis='y', labelsize=50)\n",
    "# # sns.boxplot(data=df,x='reading score')\n",
    "# sns.boxplot(data=df,x='writing score')"
   ]
  },
  {
   "cell_type": "code",
   "execution_count": null,
   "id": "2df70d4a-d95b-479d-b435-f7c0cbd3907d",
   "metadata": {},
   "outputs": [],
   "source": [
    "sns.pairplot(df,hue='gender')"
   ]
  },
  {
   "cell_type": "raw",
   "id": "d6f271e8-fb2d-48fc-b3ae-a14e7552c2b3",
   "metadata": {},
   "source": [
    "Conclusions\n",
    "Student's Performance is related with lunch, race, parental level education\n",
    "Females lead in pass percentage and also are top-scorers\n",
    "Student's Performance is not much related with test preparation course\n",
    "Finishing preparation course is benefitial."
   ]
  }
 ],
 "metadata": {
  "kernelspec": {
   "display_name": "Python 3 (ipykernel)",
   "language": "python",
   "name": "python3"
  },
  "language_info": {
   "codemirror_mode": {
    "name": "ipython",
    "version": 3
   },
   "file_extension": ".py",
   "mimetype": "text/x-python",
   "name": "python",
   "nbconvert_exporter": "python",
   "pygments_lexer": "ipython3",
   "version": "3.12.6"
  }
 },
 "nbformat": 4,
 "nbformat_minor": 5
}
